{
 "cells": [
  {
   "cell_type": "code",
   "execution_count": 2,
   "metadata": {},
   "outputs": [
    {
     "name": "stdout",
     "output_type": "stream",
     "text": [
      "start program\n",
      "Write a text:odkwaojdwaij\n",
      "This text is not a palindrome\n"
     ]
    }
   ],
   "source": [
    "#Ask the user for a string and print out whether this string is a palindrome or not. (A palindrome is a string that reads the same forwards and backwards.)\n",
    "print(\"start program\")\n",
    "\n",
    "text = str(input(\"Write a text:\"))\n",
    "\n",
    "def is_palindrome(text):\n",
    "    length = len(text)\n",
    "    i = 1\n",
    "    for x in text:\n",
    "        if x != text[length-i]:\n",
    "            return False\n",
    "        elif i > length/2:\n",
    "            return True\n",
    "        else:\n",
    "            i = i + 1\n",
    "\n",
    "if is_palindrome(text):\n",
    "    print(\"This text is a palindrome\")\n",
    "else:\n",
    "    print(\"This text is not a palindrome\")"
   ]
  },
  {
   "cell_type": "code",
   "execution_count": 5,
   "metadata": {},
   "outputs": [
    {
     "name": "stdout",
     "output_type": "stream",
     "text": [
      "start program\n",
      "Write a text:dwasdawd\n",
      "not palindrome\n"
     ]
    }
   ],
   "source": [
    "print(\"start program\")\n",
    "\n",
    "text = str(input(\"Write a text:\"))\n",
    "\n",
    "rev_text = text[::-1]\n",
    "\n",
    "if text == rev_text:\n",
    "    print(\"palindrome\")\n",
    "else:\n",
    "    print(\"not palindrome\")"
   ]
  }
 ],
 "metadata": {
  "kernelspec": {
   "display_name": "Python 3",
   "language": "python",
   "name": "python3"
  },
  "language_info": {
   "codemirror_mode": {
    "name": "ipython",
    "version": 3
   },
   "file_extension": ".py",
   "mimetype": "text/x-python",
   "name": "python",
   "nbconvert_exporter": "python",
   "pygments_lexer": "ipython3",
   "version": "3.7.4"
  }
 },
 "nbformat": 4,
 "nbformat_minor": 2
}
