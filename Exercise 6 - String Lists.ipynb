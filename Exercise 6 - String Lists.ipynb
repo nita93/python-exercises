#Ask the user for a string and print out whether this string is a palindrome or not. (A palindrome is a string that reads the same forwards and backwards.)

print("start program")

text = str(input("Write a text:"))

def is_palindrome(text):
    length = len(text)
    i = 1
    for x in text:
        if x != text[length-i]:
            return False
        elif i > length/2:
            return True
        else:
            i = i + 1

if is_palindrome(text):
    print("This text is a palindrome")
else:
    print("This text is not a palindrome")
    
#2
print("start program")

text = str(input("Write a text:"))

rev_text = text[::-1]

if text == rev_text:
    print("palindrome")
else:
    print("not palindrome")
