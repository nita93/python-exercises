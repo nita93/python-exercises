{
 "cells": [
  {
   "cell_type": "code",
   "execution_count": 11,
   "metadata": {},
   "outputs": [
    {
     "name": "stdout",
     "output_type": "stream",
     "text": [
      "[1, 2, 3, 4, 0.2]\n",
      "{0.2, 1, 2, 3, 4}\n"
     ]
    }
   ],
   "source": [
    "# Write a program (function!) that takes a list and returns a new list that contains all the elements of the first list minus all the duplicates.\n",
    "#\n",
    "#Extras:\n",
    "#\n",
    "#Write two different functions to do this - one using a loop and constructing a list, and another using sets.\n",
    "#Go back and do Exercise 5 using sets, and write the solution for that in a different function.\n",
    "\n",
    "a = [1, 2, 3, 4, 3, 2, 1, 0.2]\n",
    "\n",
    "def find_in_list(x_list, x_value):\n",
    "    for x in x_list:\n",
    "        if x == x_value:\n",
    "            return True\n",
    "    return False\n",
    "\n",
    "def remove_duplicates(a_list):\n",
    "    result = []\n",
    "    length = len(a_list)\n",
    "    i = 0\n",
    "    while i < length:\n",
    "        if not find_in_list(result, a_list[i]):\n",
    "            result.append(a_list[i])\n",
    "        i += 1\n",
    "    return result\n",
    "\n",
    "out1 = remove_duplicates(a)\n",
    "out2 = set(a)\n",
    "\n",
    "print(out1)\n",
    "print(out2)"
   ]
  }
 ],
 "metadata": {
  "kernelspec": {
   "display_name": "Python 3",
   "language": "python",
   "name": "python3"
  },
  "language_info": {
   "codemirror_mode": {
    "name": "ipython",
    "version": 3
   },
   "file_extension": ".py",
   "mimetype": "text/x-python",
   "name": "python",
   "nbconvert_exporter": "python",
   "pygments_lexer": "ipython3",
   "version": "3.7.4"
  }
 },
 "nbformat": 4,
 "nbformat_minor": 2
}
