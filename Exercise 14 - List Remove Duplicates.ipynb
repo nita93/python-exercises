# Write a program (function!) that takes a list and returns a new list that contains all the elements of the first list minus all the duplicates.
#
#Extras:
#
#Write two different functions to do this - one using a loop and constructing a list, and another using sets.
#Go back and do Exercise 5 using sets, and write the solution for that in a different function.

a = [1, 2, 3, 4, 3, 2, 1, 0.2]

def find_in_list(x_list, x_value):
    for x in x_list:
        if x == x_value:
            return True
    return False

def remove_duplicates(a_list):
    result = []
    length = len(a_list)
    i = 0
    while i < length:
        if not find_in_list(result, a_list[i]):
            result.append(a_list[i])
        i += 1
    return result

out1 = remove_duplicates(a)
out2 = set(a)

print(out1)
print(out2)
