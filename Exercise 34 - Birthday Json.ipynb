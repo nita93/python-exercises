{
 "cells": [
  {
   "cell_type": "code",
   "execution_count": 1,
   "metadata": {},
   "outputs": [],
   "source": [
    "# In the previous exercise we created a dictionary of famous scientists’ birthdays. In this exercise, modify your program from Part 1 to load the birthday dictionary from a JSON file on disk, rather than having the dictionary defined in the program.\n",
    "\n",
    "# Bonus: Ask the user for another scientist’s name and birthday to add to the dictionary, and update the JSON file you have on disk with the scientist’s name. If you run the program multiple times and keep adding new names, your JSON file should keep getting bigger and bigger."
   ]
  },
  {
   "cell_type": "code",
   "execution_count": 3,
   "metadata": {},
   "outputs": [],
   "source": [
    "# write previous dict to a file\n",
    "\n",
    "import json\n",
    "\n",
    "birthday_dict = {\n",
    "    \"Albert Einstein\": \"01/01/1910\",\n",
    "    \"Benjamin Franklin\": \"02/02/1920\",\n",
    "    \"Ada Lovelace\": \"03/03/1930\"\n",
    "}\n",
    "\n",
    "with open('exercise34.json','w') as file:\n",
    "    json.dump(birthday_dict, file)"
   ]
  },
  {
   "cell_type": "code",
   "execution_count": 4,
   "metadata": {},
   "outputs": [
    {
     "name": "stdout",
     "output_type": "stream",
     "text": [
      "{'Albert Einstein': '01/01/1910', 'Benjamin Franklin': '02/02/1920', 'Ada Lovelace': '03/03/1930'}\n"
     ]
    }
   ],
   "source": [
    "with open('exercise34.json','r') as file:\n",
    "    loaded_birthday = json.load(file)\n",
    "    \n",
    "print(loaded_birthday)"
   ]
  },
  {
   "cell_type": "code",
   "execution_count": 11,
   "metadata": {},
   "outputs": [
    {
     "name": "stdout",
     "output_type": "stream",
     "text": [
      "Would you like to (S)how birthday of scientist or (A)dd another birthday to dictionary: S\n",
      "Welcome to the birthday dictionary. We know the birthdays of:\n",
      "Albert Einstein\n",
      "Benjamin Franklin\n",
      "Ada Lovelace\n",
      "Isaac Newton\n",
      "Who's birthday do you want to look up?: Isaac Newton\n",
      "Isaac Newton's birthday is 04/04/1940.\n"
     ]
    }
   ],
   "source": [
    "question = input(\"Would you like to (S)how birthday of scientist or (A)dd another birthday to dictionary: \").upper()\n",
    "\n",
    "if question == \"S\":\n",
    "    print(\"Welcome to the birthday dictionary. We know the birthdays of:\")\n",
    "    for x in loaded_birthday.keys():\n",
    "        print(x)\n",
    "    name = input(\"Who's birthday do you want to look up?: \")\n",
    "    date = loaded_birthday.get(name, False)\n",
    "\n",
    "    if date:\n",
    "        print(f\"{name}'s birthday is {date}.\")\n",
    "    else:\n",
    "        print(f\"There is no person with the following name: {name}\")\n",
    "elif question == \"A\":\n",
    "    name = input(\"What's the name of the scientist?: \")\n",
    "    date = input(\"what's the birthday of the scientist?: (DD/MM/YYYY)\")\n",
    "    \n",
    "    loaded_birthday[name] = date\n",
    "    \n",
    "    with open('exercise34.json','w') as file:\n",
    "        json.dump(loaded_birthday,file)\n",
    "else:\n",
    "    print(\"Wrong command!\")"
   ]
  },
  {
   "cell_type": "code",
   "execution_count": null,
   "metadata": {},
   "outputs": [],
   "source": []
  }
 ],
 "metadata": {
  "kernelspec": {
   "display_name": "Python 3",
   "language": "python",
   "name": "python3"
  },
  "language_info": {
   "codemirror_mode": {
    "name": "ipython",
    "version": 3
   },
   "file_extension": ".py",
   "mimetype": "text/x-python",
   "name": "python",
   "nbconvert_exporter": "python",
   "pygments_lexer": "ipython3",
   "version": "3.7.4"
  }
 },
 "nbformat": 4,
 "nbformat_minor": 2
}
