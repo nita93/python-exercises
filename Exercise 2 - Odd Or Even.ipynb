{
 "cells": [
  {
   "cell_type": "code",
   "execution_count": null,
   "metadata": {},
   "outputs": [
    {
     "name": "stdout",
     "output_type": "stream",
     "text": [
      "start program\n"
     ]
    }
   ],
   "source": [
    "#Ask the user for a number. Depending on whether the number is even or odd, print out an appropriate message to the user. Hint: how does an even / odd number react differently when divided by 2?\n",
    "\n",
    "print(\"start program\")\n",
    "\n",
    "number = int(input(\"What's your number? \"))\n",
    "\n",
    "if number%4 == 0:\n",
    "    print(\"Your number is multiple of 4\")\n",
    "elif number%2 > 0:\n",
    "    print(\"Your number is odd\")\n",
    "else:\n",
    "    print(\"Your number is even\")"
   ]
  },
  {
   "cell_type": "code",
   "execution_count": 8,
   "metadata": {},
   "outputs": [
    {
     "name": "stdout",
     "output_type": "stream",
     "text": [
      "start program\n",
      "What's your first number? 4\n",
      "What's your second number? 2\n",
      "int\n"
     ]
    }
   ],
   "source": [
    "print(\"start program\")\n",
    "\n",
    "number1 = input(\"What's your first number? \")\n",
    "number2 = input(\"What's your second number? \")\n",
    "\n",
    "result = float(number1)/float(number2)\n",
    "\n",
    "if float(result)==int(result):\n",
    "    print(\"int\")\n",
    "else:\n",
    "    print(\"float\")"
   ]
  }
 ],
 "metadata": {
  "kernelspec": {
   "display_name": "Python 3",
   "language": "python",
   "name": "python3"
  },
  "language_info": {
   "codemirror_mode": {
    "name": "ipython",
    "version": 3
   },
   "file_extension": ".py",
   "mimetype": "text/x-python",
   "name": "python",
   "nbconvert_exporter": "python",
   "pygments_lexer": "ipython3",
   "version": "3.7.4"
  }
 },
 "nbformat": 4,
 "nbformat_minor": 2
}
