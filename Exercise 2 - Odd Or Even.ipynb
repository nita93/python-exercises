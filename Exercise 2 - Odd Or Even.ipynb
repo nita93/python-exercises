#Ask the user for a number. Depending on whether the number is even or odd, print out an appropriate message to the user. Hint: how does an even / odd number react differently when divided by 2?
#Extras:
#
#If the number is a multiple of 4, print out a different message.
#Ask the user for two numbers: one number to check (call it num) and one number to divide by (check). If check divides evenly into num, tell that to the user. If not, print a different appropriate message.

print("start program")

number = int(input("What's your number? "))

if number%4 == 0:
    print("Your number is multiple of 4")
elif number%2 > 0:
    print("Your number is odd")
else:
    print("Your number is even")
    
number1 = input("What's your first number? ")
number2 = input("What's your second number? ")

result = float(number1)/float(number2)

if float(result)==int(result):
    print("int")
else:
    print("float")
