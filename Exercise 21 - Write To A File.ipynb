{
 "cells": [
  {
   "cell_type": "code",
   "execution_count": 1,
   "metadata": {},
   "outputs": [],
   "source": [
    "#Take the code from the How To Decode A Website exercise (if you didn’t do it or just want to play with some different code, use the code from the solution), and instead of printing the results to a screen, write the results to a txt file. In your code, just make up a name for the file you are saving to.\n",
    "#\n",
    "#Extras:\n",
    "#\n",
    "#Ask the user to specify the name of the output file that will be saved."
   ]
  },
  {
   "cell_type": "code",
   "execution_count": 5,
   "metadata": {},
   "outputs": [
    {
     "name": "stdout",
     "output_type": "stream",
     "text": [
      "What's the file name: exercise21\n"
     ]
    }
   ],
   "source": [
    "import requests\n",
    "from bs4 import BeautifulSoup\n",
    "\n",
    "url = \"http://www.nytimes.com/\"\n",
    "r = requests.get(url)\n",
    "\n",
    "soup = BeautifulSoup(r.text)\n",
    "\n",
    "def htmlRemover(x):\n",
    "    x = x.replace(\"<span>\",\"\")\n",
    "    x = x.replace(\"</span>\",\"\")\n",
    "    x = x.replace(\"</h2>\",\"\")\n",
    "    return x\n",
    "\n",
    "titles = soup.find_all(\"h2\", class_=\"esl82me0\")\n",
    "\n",
    "file_name = str(input(\"What's the file name: \"))\n",
    "\n",
    "open_file = open(file_name+\".txt\",'w')\n",
    "\n",
    "for title in titles:\n",
    "    title = htmlRemover(str(title))\n",
    "    title = title.split(\">\")\n",
    "    title = title[len(title)-1]\n",
    "    open_file.write(title+\"\\n\")\n",
    "\n",
    "open_file.close()"
   ]
  },
  {
   "cell_type": "code",
   "execution_count": null,
   "metadata": {},
   "outputs": [],
   "source": []
  }
 ],
 "metadata": {
  "kernelspec": {
   "display_name": "Python 3",
   "language": "python",
   "name": "python3"
  },
  "language_info": {
   "codemirror_mode": {
    "name": "ipython",
    "version": 3
   },
   "file_extension": ".py",
   "mimetype": "text/x-python",
   "name": "python",
   "nbconvert_exporter": "python",
   "pygments_lexer": "ipython3",
   "version": "3.7.4"
  }
 },
 "nbformat": 4,
 "nbformat_minor": 2
}
