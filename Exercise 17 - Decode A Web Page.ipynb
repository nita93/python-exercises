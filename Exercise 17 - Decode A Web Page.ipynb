# Use the BeautifulSoup and requests Python packages to print out a list of all the article titles on the New York Times homepage.

import requests
from bs4 import BeautifulSoup

url = "http://www.nytimes.com/"
r = requests.get(url)

soup = BeautifulSoup(r.text)

def htmlRemover(x):
    x = x.replace("<span>","")
    x = x.replace("</span>","")
    x = x.replace("</h2>","")
    return x

titles = soup.find_all("h2", class_="esl82me0")
for title in titles:
    title = htmlRemover(str(title))
    title = title.split(">")
    title = title[len(title)-1]
    print(title)
