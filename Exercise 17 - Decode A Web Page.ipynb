{
 "cells": [
  {
   "cell_type": "code",
   "execution_count": 27,
   "metadata": {},
   "outputs": [
    {
     "name": "stdout",
     "output_type": "stream",
     "text": [
      "Listen to ‘The Daily’\n",
      "The Book Review Podcast\n",
      "Listen: ‘Modern Love’ Podcast\n",
      "Iran, After Attacking Bases, Says It Does Not Seek War\n",
      "Ayatollah Calls Missile Strikes a ‘Slap in the Face’ to the U.S.\n",
      "The missile strike damage appears limited, but Iran might not be done yet.\n",
      "President Trump plans to address the nation at 11 a.m. Eastern.\n",
      "Pressed for Details on Suleimani Strike, Administration Gives Few\n",
      "Analysis: A Strategy That Has Even Trump Allies Scratching Their Heads\n",
      "Airliner Disaster in Iran: All on Board Die as Boeing 737 Goes Down\n",
      "Ghosn, Defending His Escape, Attacks Japan and Nissan\n",
      "McConnell Says He Will Proceed on Impeachment Trial Without Witness Deal\n",
      "Echoes of Kavanaugh Fight as Bolton Complicates Impeachment Trial Plans\n",
      "Robert Caro’s Papers Headed to New-York Historical Society\n",
      "Iranian Blood Is on Our Hands, Too\n",
      "The Trump We Did Not Want to See\n",
      "Trump Wants Law and Order Front and Center\n",
      "The Tragedy of Germany’s Energy Experiment\n",
      "Military Kids Change School Up to 9 Times. So Let’s Make It Easier.\n",
      "Why Julián Castro Couldn’t Finish First With Latinos\n",
      "Before the ‘Final Solution’ There Was a ‘Test Killing’\n",
      "Why Is Mitch McConnell So Afraid of John Bolton?\n",
      "We Can’t Afford Trump as Our Commander in Chief\n",
      "Can Trump Make Foreign Policy a Democratic Campaign Issue?\n",
      "Tessa Majors and the Worst Thing I Ever Heard\n",
      "Marine Labs on the Water’s Edge Are Threatened by Climate Change\n",
      "There Are 2,373 Squirrels in Central Park. I Helped Count Them.\n",
      "Current Job: Award-Winning Chef. Education: University of IHOP.\n"
     ]
    }
   ],
   "source": [
    "# Use the BeautifulSoup and requests Python packages to print out a list of all the article titles on the New York Times homepage.\n",
    "\n",
    "import requests\n",
    "from bs4 import BeautifulSoup\n",
    "\n",
    "url = \"http://www.nytimes.com/\"\n",
    "r = requests.get(url)\n",
    "\n",
    "soup = BeautifulSoup(r.text)\n",
    "\n",
    "def htmlRemover(x):\n",
    "    x = x.replace(\"<span>\",\"\")\n",
    "    x = x.replace(\"</span>\",\"\")\n",
    "    x = x.replace(\"</h2>\",\"\")\n",
    "    return x\n",
    "\n",
    "titles = soup.find_all(\"h2\", class_=\"esl82me0\")\n",
    "for title in titles:\n",
    "    title = htmlRemover(str(title))\n",
    "    title = title.split(\">\")\n",
    "    title = title[len(title)-1]\n",
    "    print(title)"
   ]
  }
 ],
 "metadata": {
  "kernelspec": {
   "display_name": "Python 3",
   "language": "python",
   "name": "python3"
  },
  "language_info": {
   "codemirror_mode": {
    "name": "ipython",
    "version": 3
   },
   "file_extension": ".py",
   "mimetype": "text/x-python",
   "name": "python",
   "nbconvert_exporter": "python",
   "pygments_lexer": "ipython3",
   "version": "3.7.4"
  }
 },
 "nbformat": 4,
 "nbformat_minor": 2
}
