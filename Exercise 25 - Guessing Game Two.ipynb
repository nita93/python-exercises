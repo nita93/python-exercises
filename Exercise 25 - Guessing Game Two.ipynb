{
 "cells": [
  {
   "cell_type": "code",
   "execution_count": 2,
   "metadata": {},
   "outputs": [],
   "source": [
    "#In a previous exercise, we’ve written a program that “knows” a number and asks a user to guess it.\n",
    "#\n",
    "#This time, we’re going to do exactly the opposite. You, the user, will have in your head a number between 0 and 100. The program will guess a number, and you, the user, will say whether it is too high, too low, or your number.\n",
    "#\n",
    "#At the end of this exchange, your program should print out how many guesses it took to get your number.\n",
    "#\n",
    "#As the writer of this program, you will have to choose how your program will strategically guess. A naive strategy can be to simply start the guessing at 1, and keep going (2, 3, 4, etc.) until you hit the number. But that’s not an optimal guessing strategy. An alternate strategy might be to guess 50 (right in the middle of the range), and then increase / decrease by 1 as needed. After you’ve written the program, try to find the optimal strategy! (We’ll talk about what is the optimal one next week with the solution.)"
   ]
  },
  {
   "cell_type": "code",
   "execution_count": 9,
   "metadata": {},
   "outputs": [
    {
     "name": "stdout",
     "output_type": "stream",
     "text": [
      "Type G if your number is greater\n",
      "Type L if your number is lower\n",
      "Type anything else if it is your number\n",
      "Is your number 50? l\n",
      "Is your number 25? g\n",
      "Is your number 38? l\n",
      "Is your number 32? g\n",
      "Is your number 35? l\n",
      "Is your number 34? l\n",
      "Is your number 33? y\n",
      "Hurray! Your number is 33. I guessed it in my 7 try!\n"
     ]
    }
   ],
   "source": [
    "import math\n",
    "\n",
    "min_number = 0\n",
    "max_number = 100\n",
    "counter = 0\n",
    "\n",
    "print('''Type G if your number is greater\n",
    "Type L if your number is lower\n",
    "Type anything else if it is your number''')\n",
    "\n",
    "def is_cheater(Min,Max):\n",
    "    if Min>Max:\n",
    "        print(\"You are a cheater!\")\n",
    "        return True\n",
    "    else:\n",
    "        return False\n",
    "\n",
    "while True:\n",
    "    counter += 1\n",
    "    guess = math.ceil((min_number+max_number)/2)\n",
    "    answer = input(f\"Is your number {guess}? \")\n",
    "    if answer.upper() == 'G':\n",
    "        min_number = guess+1\n",
    "        if is_cheater(min_number,max_number):\n",
    "            break\n",
    "    elif answer.upper() == 'L':\n",
    "        max_number = guess-1\n",
    "        if is_cheater(min_number,max_number):\n",
    "            break\n",
    "    else:\n",
    "        print(f'Hurray! Your number is {guess}. I guessed it in my {counter} try!')\n",
    "        break"
   ]
  },
  {
   "cell_type": "code",
   "execution_count": null,
   "metadata": {},
   "outputs": [],
   "source": []
  }
 ],
 "metadata": {
  "kernelspec": {
   "display_name": "Python 3",
   "language": "python",
   "name": "python3"
  },
  "language_info": {
   "codemirror_mode": {
    "name": "ipython",
    "version": 3
   },
   "file_extension": ".py",
   "mimetype": "text/x-python",
   "name": "python",
   "nbconvert_exporter": "python",
   "pygments_lexer": "ipython3",
   "version": "3.7.4"
  }
 },
 "nbformat": 4,
 "nbformat_minor": 2
}
