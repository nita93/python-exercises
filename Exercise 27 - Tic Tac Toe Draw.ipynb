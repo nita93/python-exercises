{
 "cells": [
  {
   "cell_type": "code",
   "execution_count": 1,
   "metadata": {},
   "outputs": [],
   "source": [
    "# In a previous exercise we explored the idea of using a list of lists as a “data structure” to store information about a tic tac toe game. In a tic tac toe game, the “game server” needs to know where the Xs and Os are in the board, to know whether player 1 or player 2 (or whoever is X and O won).\n",
    "\n",
    "# There has also been an exercise about drawing the actual tic tac toe gameboard using text characters.\n",
    "\n",
    "# The next logical step is to deal with handling user input. When a player (say player 1, who is X) wants to place an X on the screen, they can’t just click on a terminal. So we are going to approximate this clicking simply by asking the user for a coordinate of where they want to place their piece.\n",
    "\n",
    "# As a reminder, our tic tac toe game is really a list of lists. The game starts out with an empty game board like this:\n",
    "\n",
    "# game = [[0, 0, 0],\n",
    "# \t[0, 0, 0],\n",
    "# \t[0, 0, 0]]\n",
    "# The computer asks Player 1 (X) what their move is (in the format row,col), and say they type 1,3. Then the game would print out\n",
    "\n",
    "# game = [[0, 0, X],\n",
    "# \t[0, 0, 0],\n",
    "# \t[0, 0, 0]]\n",
    "# And ask Player 2 for their move, printing an O in that place.\n",
    "\n",
    "# Things to note:\n",
    "\n",
    "# For this exercise, assume that player 1 (the first player to move) will always be X and player 2 (the second player) will always be O.\n",
    "# Notice how in the example I gave coordinates for where I want to move starting from (1, 1) instead of (0, 0). To people who don’t program, starting to count at 0 is a strange concept, so it is better for the user experience if the row counts and column counts start at 1. This is not required, but whichever way you choose to implement this, it should be explained to the player.\n",
    "# Ask the user to enter coordinates in the form “row,col” - a number, then a comma, then a number. Then you can use your Python skills to figure out which row and column they want their piece to be in.\n",
    "# Don’t worry about checking whether someone won the game, but if a player tries to put a piece in a game position where there already is another piece, do not allow the piece to go there."
   ]
  },
  {
   "cell_type": "code",
   "execution_count": 3,
   "metadata": {},
   "outputs": [
    {
     "name": "stdout",
     "output_type": "stream",
     "text": [
      "Player 1, give me coordinates separated with comma (raw,column): 1,1\n",
      "[['X', 0, 0], [0, 0, 0], [0, 0, 0]]\n",
      "Player 2, give me coordinates separated with comma (raw,column): 1,1\n",
      "This position is already chosen. Choose another position!\n",
      "Player 2, give me coordinates separated with comma (raw,column): 1,2\n",
      "[['X', 'O', 0], [0, 0, 0], [0, 0, 0]]\n"
     ]
    }
   ],
   "source": [
    "# prepare emtpy board\n",
    "\n",
    "board = [[0,0,0],\n",
    "        [0,0,0],\n",
    "        [0,0,0]]\n",
    "\n",
    "is_player1 = True\n",
    "player = \"\"\n",
    "character = \"\"\n",
    "x, y = (1,1)\n",
    "\n",
    "# testing purposes\n",
    "i = 0\n",
    "\n",
    "# while loop for testing purposes\n",
    "while i < 2:\n",
    "    if is_player1:\n",
    "        player = \"Player 1\"\n",
    "        character = \"X\"\n",
    "    else:\n",
    "        player = \"Player 2\"\n",
    "        character = \"O\"\n",
    "    while True:\n",
    "        user_choice = input(f\"{player}, give me coordinates separated with comma (raw,column): \").split(\",\")\n",
    "        x, y = int(user_choice[0]), int(user_choice[1])\n",
    "        if x >= 0 and x <=3 and y <= 3 and y >= 0:\n",
    "            if board[x-1][y-1] != 0:\n",
    "                print(\"This position is already chosen. Choose another position!\")\n",
    "            else:\n",
    "                board[x-1][y-1] = character\n",
    "                is_player1 = not is_player1\n",
    "                break\n",
    "        else:\n",
    "            print(\"Wrong coordinates. They shouldn't be greater than 3 and lower than 1. Try again!\")\n",
    "    print(board)\n",
    "    i += 1"
   ]
  },
  {
   "cell_type": "code",
   "execution_count": null,
   "metadata": {},
   "outputs": [],
   "source": []
  }
 ],
 "metadata": {
  "kernelspec": {
   "display_name": "Python 3",
   "language": "python",
   "name": "python3"
  },
  "language_info": {
   "codemirror_mode": {
    "name": "ipython",
    "version": 3
   },
   "file_extension": ".py",
   "mimetype": "text/x-python",
   "name": "python",
   "nbconvert_exporter": "python",
   "pygments_lexer": "ipython3",
   "version": "3.7.4"
  }
 },
 "nbformat": 4,
 "nbformat_minor": 2
}
