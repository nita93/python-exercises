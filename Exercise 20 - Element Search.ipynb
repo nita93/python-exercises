#Write a function that takes an ordered list of numbers (a list where the elements are in order from smallest to largest) and another number. The function decides whether or not the given number is inside the list and returns (then prints) an appropriate boolean.
#
#Extras:
#
#Use binary search.

a = [1, 3, 5, 30, 42, 43, 500, 501]

def findInTheList(a,b):
    for i in a:
        if i == b:
            return True
    return False
    
findInTheList(a,5)

def BinaryFindInTheList(a,b):
    right = len(a)-1
    left = 0
    while True:
        middle = int((right+left)/2)
        if a[middle] == b:
            return True
        elif a[middle] > b:
            if right == middle:
                return False
            else:
                right = middle
        else:
            if left == middle:
                return False
            else:
                left = middle

BinaryFindInTheList(a,500)
