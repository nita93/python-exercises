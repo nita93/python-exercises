#Generate a random number between 1 and 9 (including 1 and 9). Ask the user to guess the number, then tell them whether they guessed too low, too high, or exactly right. (Hint: remember to use the user input lessons from the very first exercise)
#
#Extras:
#
#Keep the game going until the user types “exit”
#Keep track of how many guesses the user has taken, and when the game ends, print this out.

import random

print("start program")

a = random.randint(1,10000)

count = 0

while True:
    number = input("Guess a number: ")
    count += 1;

    if number == "exit":
        print("You left the game!")
        break
    elif int(number) < a:
        print("Your number is too low")
    elif int(number) > a:
        print("Your number is too high")
    else:
        print("Great! The number is "+str(number)+". You guessed it in your "+str(count)+" try!")
        break
