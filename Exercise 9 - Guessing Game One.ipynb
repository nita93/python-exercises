{
 "cells": [
  {
   "cell_type": "code",
   "execution_count": 17,
   "metadata": {},
   "outputs": [
    {
     "name": "stdout",
     "output_type": "stream",
     "text": [
      "start program\n",
      "Guess a number: 2000\n",
      "Your number is too low\n",
      "Guess a number: 7000\n",
      "Your number is too high\n",
      "Guess a number: 5000\n",
      "Your number is too low\n",
      "Guess a number: 6500\n",
      "Your number is too high\n",
      "Guess a number: 5500\n",
      "Your number is too low\n",
      "Guess a number: 6000\n",
      "Your number is too low\n",
      "Guess a number: 6150\n",
      "Your number is too low\n",
      "Guess a number: 6450\n",
      "Your number is too high\n",
      "Guess a number: 6250\n",
      "Your number is too high\n",
      "Guess a number: 6210\n",
      "Your number is too low\n",
      "Guess a number: 6240\n",
      "Your number is too high\n",
      "Guess a number: 6230\n",
      "Your number is too high\n",
      "Guess a number: 6220\n",
      "Great! The number is 6220. You guessed it in your 13 try!\n"
     ]
    }
   ],
   "source": [
    "#Generate a random number between 1 and 9 (including 1 and 9). Ask the user to guess the number, then tell them whether they guessed too low, too high, or exactly right. (Hint: remember to use the user input lessons from the very first exercise)\n",
    "#\n",
    "#Extras:\n",
    "#\n",
    "#Keep the game going until the user types “exit”\n",
    "#Keep track of how many guesses the user has taken, and when the game ends, print this out.\n",
    "\n",
    "import random\n",
    "\n",
    "print(\"start program\")\n",
    "\n",
    "a = random.randint(1,10000)\n",
    "\n",
    "count = 0\n",
    "\n",
    "while True:\n",
    "    number = input(\"Guess a number: \")\n",
    "    count += 1;\n",
    "\n",
    "    if number == \"exit\":\n",
    "        print(\"You left the game!\")\n",
    "        break\n",
    "    elif int(number) < a:\n",
    "        print(\"Your number is too low\")\n",
    "    elif int(number) > a:\n",
    "        print(\"Your number is too high\")\n",
    "    else:\n",
    "        print(\"Great! The number is \"+str(number)+\". You guessed it in your \"+str(count)+\" try!\")\n",
    "        break"
   ]
  }
 ],
 "metadata": {
  "kernelspec": {
   "display_name": "Python 3",
   "language": "python",
   "name": "python3"
  },
  "language_info": {
   "codemirror_mode": {
    "name": "ipython",
    "version": 3
   },
   "file_extension": ".py",
   "mimetype": "text/x-python",
   "name": "python",
   "nbconvert_exporter": "python",
   "pygments_lexer": "ipython3",
   "version": "3.7.4"
  }
 },
 "nbformat": 4,
 "nbformat_minor": 2
}
