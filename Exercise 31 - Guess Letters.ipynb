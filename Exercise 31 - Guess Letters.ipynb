{
 "cells": [
  {
   "cell_type": "code",
   "execution_count": 1,
   "metadata": {},
   "outputs": [],
   "source": [
    "# Let’s continue building Hangman. In the game of Hangman, a clue word is given by the program that the player has to guess, letter by letter. The player guesses one letter at a time until the entire word has been guessed. (In the actual game, the player can only guess 6 letters incorrectly before losing).\n",
    "\n",
    "# Let’s say the word the player has to guess is “EVAPORATE”. For this exercise, write the logic that asks a player to guess a letter and displays letters in the clue word that were guessed correctly. For now, let the player guess an infinite number of times until they get the entire word. As a bonus, keep track of the letters the player guessed and display a different message if the player tries to guess that letter again. Remember to stop the game when all the letters have been guessed correctly! Don’t worry about choosing a word randomly or keeping track of the number of guesses the player has remaining - we will deal with those in a future exercise."
   ]
  },
  {
   "cell_type": "code",
   "execution_count": 19,
   "metadata": {},
   "outputs": [
    {
     "name": "stdout",
     "output_type": "stream",
     "text": [
      "> Give me a letter: E\n",
      "E _ _ _ _ _ _ _ E\n",
      "> Give me a letter: V\n",
      "E V _ _ _ _ _ _ E\n",
      "> Give me a letter: a\n",
      "E V A _ _ _ A _ E\n",
      "> Give me a letter: p\n",
      "E V A P _ _ A _ E\n",
      "> Give me a letter: o\n",
      "E V A P O _ A _ E\n",
      "> Give me a letter: t\n",
      "E V A P O _ A T E\n",
      "> Give me a letter: e\n",
      "You already guessed this letter!\n",
      "> Give me a letter: a\n",
      "You already guessed this letter!\n",
      "> Give me a letter: s\n",
      "There is no letter S in this word. It is your 1 mistake!\n",
      "> Give me a letter: r\n",
      "E V A P O R A T E\n",
      "You won! The word was EVAPORATE\n"
     ]
    }
   ],
   "source": [
    "def hangman_game(word, acceptable_mistakes):\n",
    "    hangman_word = word.upper()\n",
    "    hangman_word_len = len(hangman_word)\n",
    "    output = list('_'*hangman_word_len)\n",
    "    error_guess = 0\n",
    "\n",
    "    while \"_\" in output and error_guess <= acceptable_mistakes:\n",
    "        letter = input(\"> Give me a letter: \").upper()\n",
    "\n",
    "        if letter in hangman_word and letter not in output:\n",
    "            for x in range(hangman_word_len):\n",
    "                if letter.upper() == hangman_word[x]:\n",
    "                    output[x] = hangman_word[x]\n",
    "            print(\" \".join(output))\n",
    "        elif letter in hangman_word and letter in output:\n",
    "            print(\"You already guessed this letter!\")\n",
    "        else:\n",
    "            error_guess += 1\n",
    "            print(f\"There is no letter {letter} in this word. It is your {error_guess} mistake!\")\n",
    "\n",
    "    if \"_\" in output:\n",
    "        print(f\"You lost! The word was {hangman_word}\")\n",
    "    else:\n",
    "        print(f\"You won! The word was {hangman_word}\")\n",
    "        \n",
    "hangman_game(\"EVAPORATE\", 6)"
   ]
  },
  {
   "cell_type": "code",
   "execution_count": null,
   "metadata": {},
   "outputs": [],
   "source": []
  }
 ],
 "metadata": {
  "kernelspec": {
   "display_name": "Python 3",
   "language": "python",
   "name": "python3"
  },
  "language_info": {
   "codemirror_mode": {
    "name": "ipython",
    "version": 3
   },
   "file_extension": ".py",
   "mimetype": "text/x-python",
   "name": "python",
   "nbconvert_exporter": "python",
   "pygments_lexer": "ipython3",
   "version": "3.7.4"
  }
 },
 "nbformat": 4,
 "nbformat_minor": 2
}
