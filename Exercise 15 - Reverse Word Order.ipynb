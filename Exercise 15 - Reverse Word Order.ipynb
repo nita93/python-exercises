{
 "cells": [
  {
   "cell_type": "code",
   "execution_count": 7,
   "metadata": {},
   "outputs": [
    {
     "name": "stdout",
     "output_type": "stream",
     "text": [
      "start\n",
      "Give me a sentence: My name is Piotr\n"
     ]
    },
    {
     "data": {
      "text/plain": [
       "'Piotr is name My'"
      ]
     },
     "execution_count": 7,
     "metadata": {},
     "output_type": "execute_result"
    }
   ],
   "source": [
    "#Write a program (using functions!) that asks the user for a long string containing multiple words. Print back to the user the same string, except with the words in backwards order. For example, say I type the string:\n",
    "#\n",
    "#  My name is Michele\n",
    "#Then I would see the string:\n",
    "#\n",
    "#  Michele is name My\n",
    "#shown back to me.\n",
    "\n",
    "print(\"start\")\n",
    "\n",
    "text = str(input(\"Give me a sentence: \"))\n",
    "\n",
    "def reverse_text(input_text):\n",
    "    return \" \".join(text.split(\" \")[::-1])\n",
    "\n",
    "reverse_text(text)"
   ]
  }
 ],
 "metadata": {
  "kernelspec": {
   "display_name": "Python 3",
   "language": "python",
   "name": "python3"
  },
  "language_info": {
   "codemirror_mode": {
    "name": "ipython",
    "version": 3
   },
   "file_extension": ".py",
   "mimetype": "text/x-python",
   "name": "python",
   "nbconvert_exporter": "python",
   "pygments_lexer": "ipython3",
   "version": "3.7.4"
  }
 },
 "nbformat": 4,
 "nbformat_minor": 2
}
