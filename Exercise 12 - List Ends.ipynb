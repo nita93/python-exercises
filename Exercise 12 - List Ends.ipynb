# Write a program that takes a list of numbers (for example, a = [5, 10, 15, 20, 25]) and makes a new list of only the first and last elements of the given list. For practice, write this code inside a function.

print("Start")

def list_ends(x):
    return [x[0],x[len(x)-1]]

a = [5, 10, 15, 20, 25]

list_ends(a)
