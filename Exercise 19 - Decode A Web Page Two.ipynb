#Using the requests and BeautifulSoup Python libraries, print to the screen the full text of the article on this website: http://www.vanityfair.com/society/2014/06/monica-lewinsky-humiliation-culture.
#
#The article is long, so it is split up between 4 pages. Your task is to print out the text to the screen so that you can read the full article without having to click any buttons.
#
#(Hint: The post here describes in detail how to use the BeautifulSoup and requests libraries through the solution of the exercise posted here.)

import requests
from bs4 import BeautifulSoup

url = "http://www.vanityfair.com/society/2014/06/monica-lewinsky-humiliation-culture"
r = requests.get(url)
r_html = r.text
r_html

soup = BeautifulSoup(r_html)

text = soup.select('div.grid--item.body.body__container.article__body.grid-layout__content > p')

def htmlRemover(text):
    dictionary = ["<p>",'</p>','<p class="has-dropcap">','<em>','</em>']
    for i in dictionary:
        text = str(text).replace(i,"")
    return text
    
for elem in text:
    elem = htmlRemover(elem)
    print(elem)
