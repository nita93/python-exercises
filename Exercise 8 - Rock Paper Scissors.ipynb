#Make a two-player Rock-Paper-Scissors game. (Hint: Ask for player plays (using input), compare them, print out a message of congratulations to the winner, and ask if the players want to start a new game)
#
#Remember the rules:
#
#Rock beats scissors
#Scissors beats paper
#Paper beats rock

print("start program")

while True:
    while True:
        player1 = str(input("Player1: Rock Paper Scissors: "))
        if player1 != "Rock" and player1 != "Paper" and player1 != "Scissors":
            print("Wrong command. Repeat")
        else:
            break
    while True:
        player2 = str(input("Player2: Rock Paper Scissors: "))
        if player2 != "Rock" and player2 != "Paper" and player2 != "Scissors":
            print("Wrong command. Repeat")
        else:
            break
    if player1 == "Rock":
        if player2 == "Scissors":
            print("Player1 won")
            break
        elif player2 == "Paper":
            print("Player2 won")
            break
        else:
            print("draw")
    elif player1 == "Paper":
        if player2 == "Rock":
            print("Player1 won")
            break
        elif player2 == "Scissors":
            print("Player2 won")
            break
        else:
            print("draw")
    else:
        if player2 == "Rock":
            print("Player2 won")
            break
        elif player2 == "Paper":
            print("Player1 won")
            break
        else:
            print("draw")    
