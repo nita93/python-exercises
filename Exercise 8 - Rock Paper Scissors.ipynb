{
 "cells": [
  {
   "cell_type": "code",
   "execution_count": 2,
   "metadata": {},
   "outputs": [
    {
     "name": "stdout",
     "output_type": "stream",
     "text": [
      "start program\n",
      "Player1: Rock Paper ScissorsPaper\n",
      "Player2: Rock Paper Scissorsdwadwa\n",
      "Wrong command. Repeat\n",
      "Player2: Rock Paper ScissorsPaper\n",
      "draw\n",
      "Player1: Rock Paper ScissorsScissors\n",
      "Player2: Rock Paper ScissorsRock\n",
      "Player2 won\n"
     ]
    }
   ],
   "source": [
    "#Make a two-player Rock-Paper-Scissors game. (Hint: Ask for player plays (using input), compare them, print out a message of congratulations to the winner, and ask if the players want to start a new game)\n",
    "#\n",
    "#Remember the rules:\n",
    "#\n",
    "#Rock beats scissors\n",
    "#Scissors beats paper\n",
    "#Paper beats rock\n",
    "\n",
    "print(\"start program\")\n",
    "\n",
    "while True:\n",
    "    while True:\n",
    "        player1 = str(input(\"Player1: Rock Paper Scissors: \"))\n",
    "        if player1 != \"Rock\" and player1 != \"Paper\" and player1 != \"Scissors\":\n",
    "            print(\"Wrong command. Repeat\")\n",
    "        else:\n",
    "            break\n",
    "    while True:\n",
    "        player2 = str(input(\"Player2: Rock Paper Scissors: \"))\n",
    "        if player2 != \"Rock\" and player2 != \"Paper\" and player2 != \"Scissors\":\n",
    "            print(\"Wrong command. Repeat\")\n",
    "        else:\n",
    "            break\n",
    "    if player1 == \"Rock\":\n",
    "        if player2 == \"Scissors\":\n",
    "            print(\"Player1 won\")\n",
    "            break\n",
    "        elif player2 == \"Paper\":\n",
    "            print(\"Player2 won\")\n",
    "            break\n",
    "        else:\n",
    "            print(\"draw\")\n",
    "    elif player1 == \"Paper\":\n",
    "        if player2 == \"Rock\":\n",
    "            print(\"Player1 won\")\n",
    "            break\n",
    "        elif player2 == \"Scissors\":\n",
    "            print(\"Player2 won\")\n",
    "            break\n",
    "        else:\n",
    "            print(\"draw\")\n",
    "    else:\n",
    "        if player2 == \"Rock\":\n",
    "            print(\"Player2 won\")\n",
    "            break\n",
    "        elif player2 == \"Paper\":\n",
    "            print(\"Player1 won\")\n",
    "            break\n",
    "        else:\n",
    "            print(\"draw\")    "
   ]
  }
 ],
 "metadata": {
  "kernelspec": {
   "display_name": "Python 3",
   "language": "python",
   "name": "python3"
  },
  "language_info": {
   "codemirror_mode": {
    "name": "ipython",
    "version": 3
   },
   "file_extension": ".py",
   "mimetype": "text/x-python",
   "name": "python",
   "nbconvert_exporter": "python",
   "pygments_lexer": "ipython3",
   "version": "3.7.4"
  }
 },
 "nbformat": 4,
 "nbformat_minor": 2
}
