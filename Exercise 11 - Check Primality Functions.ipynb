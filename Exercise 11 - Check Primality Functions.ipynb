# Ask the user for a number and determine whether the number is prime or not. (For those who have forgotten, a prime number is a number that has no divisors.). You can (and should!) use your answer to Exercise 4 to help you. Take this opportunity to practice using functions, described below.

print("Start program")

def get_integer():
    return int(input("Give me a number: "))

def is_prime(x):
    for y in range(2,x-1):
        if x%y == 0:
            return False
    return True

is_prime(get_integer())
