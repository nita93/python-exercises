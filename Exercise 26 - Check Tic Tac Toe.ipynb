{
 "cells": [
  {
   "cell_type": "code",
   "execution_count": 14,
   "metadata": {},
   "outputs": [],
   "source": [
    "#This exercise is Part 2 of 4 of the Tic Tac Toe exercise series. The other exercises are: Part 1, Part 3, and Part 4.\n",
    "#\n",
    "#As you may have guessed, we are trying to build up to a full tic-tac-toe board. However, this is significantly more than half an hour of coding, so we’re doing it in pieces.\n",
    "#\n",
    "#Today, we will simply focus on checking whether someone has WON a game of Tic Tac Toe, not worrying about how the moves were made.\n",
    "#\n",
    "#If a game of Tic Tac Toe is represented as a list of lists, like so:\n",
    "#\n",
    "#game = [[1, 2, 0],\n",
    "#\t[2, 1, 0],\n",
    "#\t[2, 1, 1]]\n",
    "#where a 0 means an empty square, a 1 means that player 1 put their token in that space, and a 2 means that player 2 put their token in that space.\n",
    "#\n",
    "#Your task this week: given a 3 by 3 list of lists that represents a Tic Tac Toe game board, tell me whether anyone has won, and tell me which player won, if any. A Tic Tac Toe win is 3 in a row - either in a row, a column, or a diagonal. Don’t worry about the case where TWO people have won - assume that in every board there will only be one winner.\n",
    "\n",
    "winner_is_2 = [[2, 2, 0],\n",
    "[2, 1, 0],\n",
    "[2, 1, 1]]\n",
    "\n",
    "winner_is_1 = [[1, 2, 0],\n",
    "[2, 1, 0],\n",
    "[2, 1, 1]]\n",
    "\n",
    "winner_is_also_1 = [[0, 1, 0],\n",
    "[2, 1, 0],\n",
    "[2, 1, 1]]\n",
    "\n",
    "no_winner = [[1, 2, 0],\n",
    "[2, 1, 0],\n",
    "[2, 1, 2]]\n",
    "\n",
    "also_no_winner = [[1, 2, 0],\n",
    "[2, 1, 0],\n",
    "[2, 1, 0]]"
   ]
  },
  {
   "cell_type": "code",
   "execution_count": 15,
   "metadata": {},
   "outputs": [],
   "source": [
    "def check_columns(matrix):\n",
    "    for x in range(3):\n",
    "        if matrix[0][x] == matrix[1][x] and matrix[1][x] == matrix[2][x] and matrix[0][x] != 0:\n",
    "            return matrix[0][x]\n",
    "    return 0;\n",
    "\n",
    "def check_rows(matrix):\n",
    "    for x in range(3):\n",
    "        if matrix[x][0] == matrix[x][1] and matrix[x][1] == matrix[x][2] and matrix[x][0] != 0:\n",
    "            return matrix[x][0]\n",
    "    return 0;\n",
    "    \n",
    "def check_diagonal(matrix):\n",
    "    if ((matrix[0][0] == matrix[1][1] and matrix[1][1] == matrix[2][2]) or (matrix[0][2] == matrix[1][1] and matrix[1][1] == matrix[2][0])) and matrix[1][1] != 0:\n",
    "        return matrix[1][1]\n",
    "    else:\n",
    "        return 0;\n",
    "\n",
    "def check_tic_tac_toe(matrix):\n",
    "    column = check_columns(matrix)\n",
    "    if column != 0:\n",
    "        return column\n",
    "    row = check_rows(matrix)\n",
    "    if row != 0:\n",
    "        return row\n",
    "    diagonal = check_diagonal(matrix)\n",
    "    if diagonal != 0:\n",
    "        return diagonal\n",
    "    else:\n",
    "        return 0"
   ]
  },
  {
   "cell_type": "code",
   "execution_count": 16,
   "metadata": {},
   "outputs": [
    {
     "name": "stdout",
     "output_type": "stream",
     "text": [
      "2\n",
      "1\n",
      "1\n",
      "0\n",
      "0\n"
     ]
    }
   ],
   "source": [
    "print(check_tic_tac_toe(winner_is_2))\n",
    "print(check_tic_tac_toe(winner_is_1))\n",
    "print(check_tic_tac_toe(winner_is_also_1))\n",
    "print(check_tic_tac_toe(no_winner))\n",
    "print(check_tic_tac_toe(also_no_winner))"
   ]
  },
  {
   "cell_type": "code",
   "execution_count": null,
   "metadata": {},
   "outputs": [],
   "source": []
  }
 ],
 "metadata": {
  "kernelspec": {
   "display_name": "Python 3",
   "language": "python",
   "name": "python3"
  },
  "language_info": {
   "codemirror_mode": {
    "name": "ipython",
    "version": 3
   },
   "file_extension": ".py",
   "mimetype": "text/x-python",
   "name": "python",
   "nbconvert_exporter": "python",
   "pygments_lexer": "ipython3",
   "version": "3.7.4"
  }
 },
 "nbformat": 4,
 "nbformat_minor": 2
}
