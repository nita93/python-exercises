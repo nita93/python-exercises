#Create a program that asks the user to enter their name and their age. Print out a message addressed to them that tells them the year that they will turn 100 years old.

import datetime

now = datetime.datetime.now()

print("start program")
age = input("Please enter your age: ")
repeat = input("Enter number of repeats: ")
age = int(age)
repeat = int(repeat)
targetYear = int(now.year)+100-age
for x in range(repeat):
    print("you will turn 100 years old in " + str(targetYear))
