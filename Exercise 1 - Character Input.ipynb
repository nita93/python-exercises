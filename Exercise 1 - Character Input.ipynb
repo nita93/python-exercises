{
 "cells": [
  {
   "cell_type": "code",
   "execution_count": 4,
   "metadata": {},
   "outputs": [
    {
     "name": "stdout",
     "output_type": "stream",
     "text": [
      "start program\n",
      "Please enter your age: 20\n",
      "Enter number of repeats: 4\n",
      "you will turn 100 years old in 2099\n",
      "you will turn 100 years old in 2099\n",
      "you will turn 100 years old in 2099\n",
      "you will turn 100 years old in 2099\n"
     ]
    }
   ],
   "source": [
    "#Create a program that asks the user to enter their name and their age. Print out a message addressed to them that tells them the year that they will turn 100 years old.\n",
    "\n",
    "import datetime\n",
    "\n",
    "now = datetime.datetime.now()\n",
    "\n",
    "print(\"start program\")\n",
    "age = input(\"Please enter your age: \")\n",
    "repeat = input(\"Enter number of repeats: \")\n",
    "age = int(age)\n",
    "repeat = int(repeat)\n",
    "targetYear = int(now.year)+100-age\n",
    "for x in range(repeat):\n",
    "    print(\"you will turn 100 years old in \" + str(targetYear))"
   ]
  },
  {
   "cell_type": "code",
   "execution_count": null,
   "metadata": {},
   "outputs": [],
   "source": []
  }
 ],
 "metadata": {
  "kernelspec": {
   "display_name": "Python 3",
   "language": "python",
   "name": "python3"
  },
  "language_info": {
   "codemirror_mode": {
    "name": "ipython",
    "version": 3
   },
   "file_extension": ".py",
   "mimetype": "text/x-python",
   "name": "python",
   "nbconvert_exporter": "python",
   "pygments_lexer": "ipython3",
   "version": "3.7.4"
  }
 },
 "nbformat": 4,
 "nbformat_minor": 2
}
