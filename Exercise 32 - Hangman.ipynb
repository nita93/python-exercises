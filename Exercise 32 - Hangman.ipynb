{
 "cells": [
  {
   "cell_type": "code",
   "execution_count": 1,
   "metadata": {},
   "outputs": [],
   "source": [
    "# This exercise is Part 3 of 3 of the Hangman exercise series. The other exercises are: Part 1 and Part 2.\n",
    "\n",
    "# You can start your Python journey anywhere, but to finish this exercise you will have to have finished Parts 1 and 2 or use the solutions (Part 1 and Part 2).\n",
    "\n",
    "# In this exercise, we will finish building Hangman. In the game of Hangman, the player only has 6 incorrect guesses (head, body, 2 legs, and 2 arms) before they lose the game.\n",
    "\n",
    "# In Part 1, we loaded a random word list and picked a word from it. In Part 2, we wrote the logic for guessing the letter and displaying that information to the user. In this exercise, we have to put it all together and add logic for handling guesses.\n",
    "\n",
    "# Copy your code from Parts 1 and 2 into a new file as a starting point. Now add the following features:\n",
    "\n",
    "# Only let the user guess 6 times, and tell the user how many guesses they have left.\n",
    "# Keep track of the letters the user guessed. If the user guesses a letter they already guessed, don’t penalize them - let them guess again."
   ]
  },
  {
   "cell_type": "code",
   "execution_count": 14,
   "metadata": {
    "scrolled": true
   },
   "outputs": [],
   "source": [
    "#import and randomly choose a word\n",
    "import random\n",
    "\n",
    "with open('sowpods.txt','r') as f:\n",
    "    lines = [line.rstrip() for line in f]\n",
    "\n",
    "def random_choice(array):\n",
    "    choice = random.randint(0,len(lines)-1)\n",
    "    return array[choice]\n",
    "\n",
    "word = random_choice(lines)"
   ]
  },
  {
   "cell_type": "code",
   "execution_count": 15,
   "metadata": {},
   "outputs": [],
   "source": [
    "# hangman game\n",
    "\n",
    "def hangman_game(word, acceptable_mistakes):\n",
    "    hangman_word = word.upper()\n",
    "    hangman_word_len = len(hangman_word)\n",
    "    output = list('_'*hangman_word_len)\n",
    "    error_guess = 0\n",
    "    tries_left = acceptable_mistakes+1\n",
    "    guessed_letters = []\n",
    "\n",
    "    while \"_\" in output and error_guess <= acceptable_mistakes:\n",
    "        letter = input(\"> Give me a letter: \").upper()\n",
    "\n",
    "        if letter in hangman_word and letter not in guessed_letters:\n",
    "            guessed_letters.append(letter)\n",
    "            for x in range(hangman_word_len):\n",
    "                if letter.upper() == hangman_word[x]:\n",
    "                    output[x] = hangman_word[x]\n",
    "            print(\" \".join(output))\n",
    "        elif letter in guessed_letters:\n",
    "            print(\"You already guessed this letter!\")\n",
    "        else:\n",
    "            guessed_letters.append(letter)\n",
    "            error_guess += 1\n",
    "            tries_left -= 1\n",
    "            print(f\"There is no letter {letter} in this word. It is your {error_guess} mistake! {tries_left} tries left!\")\n",
    "\n",
    "    if \"_\" in output:\n",
    "        print(f\"You lost! The word was {hangman_word}\")\n",
    "    else:\n",
    "        print(f\"You won! The word was {hangman_word}\")"
   ]
  },
  {
   "cell_type": "code",
   "execution_count": 16,
   "metadata": {},
   "outputs": [
    {
     "name": "stdout",
     "output_type": "stream",
     "text": [
      "> Give me a letter: e\n",
      "_ E _ E _ _ _ _ _\n",
      "> Give me a letter: y\n",
      "_ E _ E _ _ _ _ Y\n",
      "> Give me a letter: u\n",
      "There is no letter U in this word. It is your 1 mistake! 6 tries left!\n",
      "> Give me a letter: o\n",
      "There is no letter O in this word. It is your 2 mistake! 5 tries left!\n",
      "> Give me a letter: a\n",
      "There is no letter A in this word. It is your 3 mistake! 4 tries left!\n",
      "> Give me a letter: l\n",
      "There is no letter L in this word. It is your 4 mistake! 3 tries left!\n",
      "> Give me a letter: n\n",
      "There is no letter N in this word. It is your 5 mistake! 2 tries left!\n",
      "> Give me a letter: s\n",
      "_ E S E _ _ _ _ Y\n",
      "> Give me a letter: p\n",
      "There is no letter P in this word. It is your 6 mistake! 1 tries left!\n",
      "> Give me a letter: p\n",
      "You already guessed this letter!\n",
      "> Give me a letter: t\n",
      "_ E S E _ T _ _ Y\n",
      "> Give me a letter: r\n",
      "_ E S E R T _ _ Y\n",
      "> Give me a letter: d\n",
      "D E S E R T _ _ Y\n",
      "> Give me a letter: z\n",
      "There is no letter Z in this word. It is your 7 mistake! 0 tries left!\n",
      "You lost! The word was DESERTIFY\n"
     ]
    }
   ],
   "source": [
    "hangman_game(word, 6)"
   ]
  },
  {
   "cell_type": "code",
   "execution_count": null,
   "metadata": {},
   "outputs": [],
   "source": []
  }
 ],
 "metadata": {
  "kernelspec": {
   "display_name": "Python 3",
   "language": "python",
   "name": "python3"
  },
  "language_info": {
   "codemirror_mode": {
    "name": "ipython",
    "version": 3
   },
   "file_extension": ".py",
   "mimetype": "text/x-python",
   "name": "python",
   "nbconvert_exporter": "python",
   "pygments_lexer": "ipython3",
   "version": "3.7.4"
  }
 },
 "nbformat": 4,
 "nbformat_minor": 2
}
