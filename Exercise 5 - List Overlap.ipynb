#Take two lists, say for example these two:
#
#  a = [1, 1, 2, 3, 5, 8, 13, 21, 34, 55, 89]
#  b = [1, 2, 3, 4, 5, 6, 7, 8, 9, 10, 11, 12, 13]
#and write a program that returns a list that contains only the elements that are common between the lists (without duplicates). Make sure your program works on two lists of different sizes.
#
#Extras:
#
#Randomly generate two lists to test this
#Write this in one line of Python (don’t worry if you can’t figure this out at this point - we’ll get to it soon)

a = [1, 1, 2, 3, 5, 8, 13, 21, 34, 55, 89]
b = [1, 2, 3, 4, 5, 6, 7, 8, 9, 10, 11, 12, 13, 89]

#remove duplicates
a = list(dict.fromkeys(a))
b = list(dict.fromkeys(b))

output = []

def overlap_values(list1, list2, output):
    for x in list1:
        if x in list2:
            output.append(x)
            
overlap_values(a,b,output)

print(output)
