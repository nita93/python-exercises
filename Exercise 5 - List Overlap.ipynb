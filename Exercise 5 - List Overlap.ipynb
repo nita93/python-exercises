{
 "cells": [
  {
   "cell_type": "code",
   "execution_count": 20,
   "metadata": {},
   "outputs": [
    {
     "name": "stdout",
     "output_type": "stream",
     "text": [
      "[1, 2, 3, 5, 8, 13, 89]\n"
     ]
    }
   ],
   "source": [
    "#Take two lists, say for example these two:\n",
    "#\n",
    "#  a = [1, 1, 2, 3, 5, 8, 13, 21, 34, 55, 89]\n",
    "#  b = [1, 2, 3, 4, 5, 6, 7, 8, 9, 10, 11, 12, 13]\n",
    "#and write a program that returns a list that contains only the elements that are common between the lists (without duplicates). Make sure your program works on two lists of different sizes.\n",
    "#\n",
    "#Extras:\n",
    "#\n",
    "#Randomly generate two lists to test this\n",
    "#Write this in one line of Python (don’t worry if you can’t figure this out at this point - we’ll get to it soon)\n",
    "\n",
    "a = [1, 1, 2, 3, 5, 8, 13, 21, 34, 55, 89]\n",
    "b = [1, 2, 3, 4, 5, 6, 7, 8, 9, 10, 11, 12, 13, 89]\n",
    "\n",
    "#remove duplicates\n",
    "a = list(dict.fromkeys(a))\n",
    "b = list(dict.fromkeys(b))\n",
    "\n",
    "output = []\n",
    "\n",
    "def overlap_values(list1, list2, output):\n",
    "    for x in list1:\n",
    "        if x in list2:\n",
    "            output.append(x)\n",
    "            \n",
    "overlap_values(a,b,output)\n",
    "\n",
    "print(output)"
   ]
  },
  {
   "cell_type": "code",
   "execution_count": null,
   "metadata": {},
   "outputs": [],
   "source": []
  }
 ],
 "metadata": {
  "kernelspec": {
   "display_name": "Python 3",
   "language": "python",
   "name": "python3"
  },
  "language_info": {
   "codemirror_mode": {
    "name": "ipython",
    "version": 3
   },
   "file_extension": ".py",
   "mimetype": "text/x-python",
   "name": "python",
   "nbconvert_exporter": "python",
   "pygments_lexer": "ipython3",
   "version": "3.7.4"
  }
 },
 "nbformat": 4,
 "nbformat_minor": 2
}
