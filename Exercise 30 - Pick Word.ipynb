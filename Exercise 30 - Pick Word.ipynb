{
 "cells": [
  {
   "cell_type": "code",
   "execution_count": 1,
   "metadata": {},
   "outputs": [],
   "source": [
    "# This exercise is Part 1 of 3 of the Hangman exercise series. The other exercises are: Part 2 and Part 3.\n",
    "\n",
    "# In this exercise, the task is to write a function that picks a random word from a list of words from the SOWPODS dictionary. Download this file and save it in the same directory as your Python code. This file is Peter Norvig’s compilation of the dictionary of words used in professional Scrabble tournaments. Each line in the file contains a single word.\n",
    "\n",
    "# Hint: use the Python random library for picking a random word."
   ]
  },
  {
   "cell_type": "code",
   "execution_count": 11,
   "metadata": {},
   "outputs": [
    {
     "name": "stdout",
     "output_type": "stream",
     "text": [
      "PISHOGES\n",
      "\n"
     ]
    }
   ],
   "source": [
    "import random\n",
    "\n",
    "with open('sowpods.txt','r') as f:\n",
    "    lines = f.readlines()\n",
    "\n",
    "def random_choice(array):\n",
    "    choice = random.randint(0,len(lines)-1)\n",
    "    return array[choice]\n",
    "\n",
    "word = random_choice(lines)\n",
    "print(word)"
   ]
  },
  {
   "cell_type": "code",
   "execution_count": null,
   "metadata": {},
   "outputs": [],
   "source": []
  }
 ],
 "metadata": {
  "kernelspec": {
   "display_name": "Python 3",
   "language": "python",
   "name": "python3"
  },
  "language_info": {
   "codemirror_mode": {
    "name": "ipython",
    "version": 3
   },
   "file_extension": ".py",
   "mimetype": "text/x-python",
   "name": "python",
   "nbconvert_exporter": "python",
   "pygments_lexer": "ipython3",
   "version": "3.7.4"
  }
 },
 "nbformat": 4,
 "nbformat_minor": 2
}
