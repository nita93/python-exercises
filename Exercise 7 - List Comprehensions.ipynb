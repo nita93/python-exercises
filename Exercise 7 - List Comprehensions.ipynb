#Let’s say I give you a list saved in a variable: a = [1, 4, 9, 16, 25, 36, 49, 64, 81, 100]. Write one line of Python that takes this list a and makes a new list that has only the even elements of this list in it.

#1
a = [1, 4, 9, 16, 25, 36, 49, 64, 81, 100]
b = []

for x in a:
    if x%2 == 0:
        b.append(x)
        
print(b)

#2
a = [1, 4, 9, 16, 25, 36, 49, 64, 81, 100]
b = [aa for aa in a if aa%2 == 0]

print(b)
