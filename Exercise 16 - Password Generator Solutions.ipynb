{
 "cells": [
  {
   "cell_type": "code",
   "execution_count": 6,
   "metadata": {},
   "outputs": [
    {
     "name": "stdout",
     "output_type": "stream",
     "text": [
      "start\n",
      "What's the length of your password: 23\n",
      "Your new password is: _wC1xOT$lg6ZCzXJm&-T6iu\n"
     ]
    }
   ],
   "source": [
    "#Write a password generator in Python. Be creative with how you generate passwords - strong passwords have a mix of lowercase letters, uppercase letters, numbers, and symbols. The passwords should be random, generating a new password every time the user asks for a new password. Include your run-time code in a main method.\n",
    "#\n",
    "#Extra:\n",
    "#\n",
    "#Ask the user how strong they want their password to be. For weak passwords, pick a word or two from a list.\n",
    "\n",
    "print(\"start\")\n",
    "\n",
    "import random\n",
    "\n",
    "characters = \"1234567890-=!@#$%^&*()_+qwertyuiopasdfghjklzxcvbnmQWERTYUIOPASDFGHJKLZXCVBNM\"\n",
    "char_array = list(characters)\n",
    "\n",
    "expected_len = int(input(\"What's the length of your password: \"))\n",
    "\n",
    "password = []\n",
    "\n",
    "for x in range(expected_len):\n",
    "    password.append(char_array[random.randint(0,len(char_array)-1)])\n",
    "    \n",
    "password = \"\".join(password)\n",
    "\n",
    "print(\"Your new password is: \"+str(password))"
   ]
  }
 ],
 "metadata": {
  "kernelspec": {
   "display_name": "Python 3",
   "language": "python",
   "name": "python3"
  },
  "language_info": {
   "codemirror_mode": {
    "name": "ipython",
    "version": 3
   },
   "file_extension": ".py",
   "mimetype": "text/x-python",
   "name": "python",
   "nbconvert_exporter": "python",
   "pygments_lexer": "ipython3",
   "version": "3.7.4"
  }
 },
 "nbformat": 4,
 "nbformat_minor": 2
}
