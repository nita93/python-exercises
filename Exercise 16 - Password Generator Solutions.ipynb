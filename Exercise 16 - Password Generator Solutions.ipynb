#Write a password generator in Python. Be creative with how you generate passwords - strong passwords have a mix of lowercase letters, uppercase letters, numbers, and symbols. The passwords should be random, generating a new password every time the user asks for a new password. Include your run-time code in a main method.
#
#Extra:
#
#Ask the user how strong they want their password to be. For weak passwords, pick a word or two from a list.

print("start")

import random

characters = "1234567890-=!@#$%^&*()_+qwertyuiopasdfghjklzxcvbnmQWERTYUIOPASDFGHJKLZXCVBNM"
char_array = list(characters)

expected_len = int(input("What's the length of your password: "))

password = []

for x in range(expected_len):
    password.append(char_array[random.randint(0,len(char_array)-1)])
    
password = "".join(password)

print("Your new password is: "+str(password))
