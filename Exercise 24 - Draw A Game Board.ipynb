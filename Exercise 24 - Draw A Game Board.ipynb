{
 "cells": [
  {
   "cell_type": "code",
   "execution_count": 8,
   "metadata": {},
   "outputs": [
    {
     "name": "stdout",
     "output_type": "stream",
     "text": [
      "Provide us dimensions\n",
      "x: 4\n",
      "y: 3\n"
     ]
    }
   ],
   "source": [
    "#Time for some fake graphics! Let’s say we want to draw game boards that look like this:\n",
    "#\n",
    "# --- --- --- \n",
    "#|   |   |   | \n",
    "# --- --- ---  \n",
    "#|   |   |   | \n",
    "# --- --- ---  \n",
    "#|   |   |   | \n",
    "# --- --- --- \n",
    "#This one is 3x3 (like in tic tac toe). Obviously, they come in many other sizes (8x8 for chess, 19x19 for Go, and many more).\n",
    "#\n",
    "#Ask the user what size game board they want to draw, and draw it for them to the screen using Python’s print statement.\n",
    "\n",
    "print(\"Provide us dimensions\")\n",
    "x = int(input(\"x: \"))\n",
    "y = int(input(\"y: \"))"
   ]
  },
  {
   "cell_type": "code",
   "execution_count": 6,
   "metadata": {},
   "outputs": [],
   "source": [
    "def draw_board_game(x,y):\n",
    "    dashes = \" ---\" * x + \" \"\n",
    "    columns = \"|\" + \"   |\" * x\n",
    "    for i in range(y):\n",
    "        print(dashes)\n",
    "        print(columns)\n",
    "    print(dashes)"
   ]
  },
  {
   "cell_type": "code",
   "execution_count": 9,
   "metadata": {},
   "outputs": [
    {
     "name": "stdout",
     "output_type": "stream",
     "text": [
      " --- --- --- --- \n",
      "|   |   |   |   |\n",
      " --- --- --- --- \n",
      "|   |   |   |   |\n",
      " --- --- --- --- \n",
      "|   |   |   |   |\n",
      " --- --- --- --- \n"
     ]
    }
   ],
   "source": [
    "draw_board_game(x,y)"
   ]
  },
  {
   "cell_type": "code",
   "execution_count": null,
   "metadata": {},
   "outputs": [],
   "source": []
  }
 ],
 "metadata": {
  "kernelspec": {
   "display_name": "Python 3",
   "language": "python",
   "name": "python3"
  },
  "language_info": {
   "codemirror_mode": {
    "name": "ipython",
    "version": 3
   },
   "file_extension": ".py",
   "mimetype": "text/x-python",
   "name": "python",
   "nbconvert_exporter": "python",
   "pygments_lexer": "ipython3",
   "version": "3.7.4"
  }
 },
 "nbformat": 4,
 "nbformat_minor": 2
}
