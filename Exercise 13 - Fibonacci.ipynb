#Write a program that asks the user how many Fibonnaci numbers to generate and then generates them. Take this opportunity to think about how you can use functions. Make sure to ask the user to enter the number of numbers in the sequence to generate.(Hint: The Fibonnaci seqence is a sequence of numbers where the next number in the sequence is the sum of the previous two numbers in the sequence. The sequence looks like this: 1, 1, 2, 3, 5, 8, 13, …)

print("Start")

number = int(input("How many Fibonacci numbers: "))

def fibonacci(x):
    results = [1, 1]
    if x == 1:
        return [1]
    elif x == 2:
        return [1, 1]
    else:
        for a in range(2,x):
            results.append(results[a-2]+results[a-1])
        return results

fibonacci(number)
